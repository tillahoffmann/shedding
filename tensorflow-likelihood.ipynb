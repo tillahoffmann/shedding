{
 "cells": [
  {
   "cell_type": "code",
   "execution_count": 13,
   "metadata": {},
   "outputs": [],
   "source": [
    "import shedding\n",
    "from shedding.model import Model\n",
    "import numpy as np\n",
    "import tensorflow as tf\n",
    "from tensorflow.experimental.numpy import logaddexp as tf_logaddexp\n",
    "import matplotlib.pyplot as plt\n",
    "\n",
    "import tensorflow_probability as tfp\n",
    "tfb = tfp.bijectors\n",
    "tfd = tfp.distributions"
   ]
  },
  {
   "cell_type": "markdown",
   "metadata": {},
   "source": [
    "Load data"
   ]
  },
  {
   "cell_type": "code",
   "execution_count": 26,
   "metadata": {},
   "outputs": [
    {
     "name": "stdout",
     "output_type": "stream",
     "text": [
      "Number of patients: 36\n",
      "Number of patients with one or more positive samples: 27\n",
      "Number of samples: 148\n",
      "Number of positive samples: 104\n"
     ]
    }
   ],
   "source": [
    "# Load and flatten datasets (the other ones are a bit dodgy)\n",
    "datasets = shedding.load_datasets([\n",
    "    'Woelfel2020', \n",
    "    'Lui2020', \n",
    "    'Wang2020',\n",
    "    'Han2020',\n",
    "], 'publications/')\n",
    "data = shedding.flatten_datasets(datasets, loq_fill_value=-99)\n",
    "print(f'Number of patients: {data[\"num_patients\"]}')\n",
    "print(f'Number of patients with one or more positive samples: '\n",
    "      f'{(data[\"num_positives_by_patient\"] > 0).sum()}')\n",
    "print(f'Number of samples: {data[\"num_samples\"]}')\n",
    "print(f'Number of positive samples: {data[\"positive\"].sum()}')\n",
    "\n",
    "# convert data to tensorflow constants with right data-types\n",
    "for key in data.keys():\n",
    "    data[key] = tf.constant(data[key])\n",
    "    if key == 'num_patients' or key == 'idx':\n",
    "        data[key] = tf.cast(data[key], tf.int32)\n",
    "    elif key == 'loadln' or key == 'loqln':\n",
    "        data[key] = tf.cast(data[key], tf.float32)\n",
    "\n",
    "# inflated or not\n",
    "inflated = True"
   ]
  },
  {
   "cell_type": "markdown",
   "metadata": {},
   "source": [
    "Model probabilities"
   ]
  },
  {
   "cell_type": "code",
   "execution_count": 7,
   "metadata": {},
   "outputs": [],
   "source": [
    "# distributions for constructing the prior\n",
    "Uniform = tfd.Uniform(0, 1)\n",
    "HalfCauchy = tfd.HalfCauchy(loc=0, scale=1)\n",
    "\n",
    "def gengamma_lpdf(q, mu, sigma, logx):\n",
    "    \"\"\"\n",
    "    Compute the logarithm of the gengamma pdf.\n",
    "    \"\"\"\n",
    "    a = 1 / (q * q)\n",
    "    c = q / sigma\n",
    "    return tf.math.log(c) - tf.math.lgamma(a) + a * tf.math.log(a) + \\\n",
    "        (a * c - 1) * logx - a * (mu * c + tf.math.exp(c * (logx - mu)))\n",
    "\n",
    "\n",
    "def gengamma_lcdf(q, mu, sigma, logx):\n",
    "    \"\"\"\n",
    "    Compute the logarithm of the gengamma cdf.\n",
    "    \"\"\"\n",
    "    a = 1 / (q * q)\n",
    "    c = q / sigma\n",
    "    logarg = c * (logx - mu)\n",
    "    arg = a * tf.math.exp(logarg)\n",
    "    cdf = tf.math.igamma(a, arg)\n",
    "    return tf.math.log(cdf)\n",
    "\n",
    "\n",
    "def gengamma_loc(q, sigma, log_mean):\n",
    "    \"\"\"\n",
    "    Evaluate the gengamma location parameter for a given shape, scale, \n",
    "    and mean.\n",
    "    \"\"\"\n",
    "    a = 1 / q ** 2\n",
    "    c = q / sigma\n",
    "    mu = tf.math.log(a) / c + tf.math.lgamma(a) - tf.math.lgamma(a + 1 / c)\n",
    "    return mu + log_mean\n",
    "\n",
    "\n",
    "def sample_log_likelihood(parameters):\n",
    "    \"\"\"\n",
    "    Compute the log likelihood for individual samples given patient means.\n",
    "    \"\"\"\n",
    "    \n",
    "    # unstack the parameters vector\n",
    "    patient_shape, patient_scale, log_patient_mean, rho, population_shape, population_loc, population_scale = tf.split(parameters, (1, 1, 36, 1, 1, 1, 1), axis=-1)\n",
    "    \n",
    "    mu = gengamma_loc(patient_shape, patient_scale, log_patient_mean)\n",
    "    mu = tf.repeat(mu, data['num_samples_by_patient'], axis=-1)\n",
    "    lpdf = gengamma_lpdf(patient_shape, mu, patient_scale, data['loadln'])\n",
    "    lcdf = gengamma_lcdf(patient_shape, mu, patient_scale, data['loqln'])\n",
    "    return tf.where(data['positive'], lpdf, lcdf)\n",
    "\n",
    "\n",
    "def patient_log_likelihood(parameters):\n",
    "    \"\"\"\n",
    "    Compute the log likelihood for samples aggregated by patient given\n",
    "    patient means.\n",
    "    \"\"\"\n",
    "    \n",
    "    patient_shape, patient_scale, log_patient_mean, rho, population_shape, population_loc, population_scale = tf.split(parameters, (1, 1, 36, 1, 1, 1, 1), axis=-1)\n",
    "\n",
    "    sll = sample_log_likelihood(parameters)\n",
    "    pll = tf.stack([tf.math.bincount(data['idx'], sll[i,:], minlength=data['num_patients']) for i in range(sll.shape[0])], axis=0)\n",
    "    if inflated:        \n",
    "        # Account for zero inflation\n",
    "        pll = pll + tf.math.log(rho)\n",
    "        some_positive = data['num_positives_by_patient'] > 0\n",
    "        pll = tf.where(some_positive, pll, \n",
    "                       tf_logaddexp(pll, tf.math.log1p(-rho)))\n",
    "        \n",
    "    return pll\n",
    "\n",
    "\n",
    "def latent_log_likelihood(parameters):\n",
    "    \"\"\"\n",
    "    Compute the log likelihood for latent parameters given hyperparameters.\n",
    "    \"\"\"\n",
    "    \n",
    "    patient_shape, patient_scale, log_patient_mean, rho, population_shape, population_loc, population_scale = tf.split(parameters, (1, 1, 36, 1, 1, 1, 1), axis=-1)\n",
    "\n",
    "    return gengamma_lpdf(\n",
    "        population_shape, population_loc,\n",
    "        population_scale, log_patient_mean,\n",
    "    )\n",
    "\n",
    "\n",
    "def log_likelihood(parameters):\n",
    "    \"\"\"\n",
    "    Compute the log likelihood, including latent parameters, given\n",
    "    hyperparameters.\n",
    "    \"\"\"\n",
    "    return patient_log_likelihood(parameters) + \\\n",
    "        latent_log_likelihood(parameters)\n",
    "\n",
    "def log_prior(parameters):\n",
    "    \n",
    "    \"\"\"\n",
    "    Compute the log prior for the hyper-parameters.\n",
    "    \"\"\"\n",
    "    \n",
    "    patient_shape, patient_scale, log_patient_mean, rho, population_shape, population_loc, population_scale = tf.split(parameters, (1, 1, 36, 1, 1, 1, 1), axis=-1)\n",
    "\n",
    "    return Uniform.log_prob(rho) + HalfCauchy.log_prob(patient_shape) + HalfCauchy.log_prob(patient_scale) + HalfCauchy.log_prob(population_shape) + HalfCauchy.log_prob(population_scale)\n",
    "    \n",
    "def log_prob(parameters):\n",
    "    \n",
    "    return tf.reduce_sum(log_likelihood(parameters), axis=-1) + tf.squeeze(log_prior(parameters))"
   ]
  },
  {
   "cell_type": "markdown",
   "metadata": {},
   "source": [
    "Stack the parameters into a single array (this defines the order of the parameters in the 1D flattened vector)"
   ]
  },
  {
   "cell_type": "code",
   "execution_count": 10,
   "metadata": {},
   "outputs": [],
   "source": [
    "# stack the initial parameters into an initial value\n",
    "initial_params = {'population_shape': 0.515960576370487,\n",
    " 'population_loc': 11.5565717463835,\n",
    " 'population_scale': 3.47310178684614,\n",
    " 'patient_shape': 0.614518235495056,\n",
    " 'patient_scale': 3.28016164131799,\n",
    " 'patient_mean': np.array([1.58109681e+06, 1.62960922e+05, 1.41395408e+06, 4.68819983e+06,\n",
    "        4.74483035e+04, 6.84407824e+04, 2.67431684e+03, 9.97489948e+04,\n",
    "        1.49190850e+02, 1.16571517e+04, 4.29331748e+04, 4.63699339e+03,\n",
    "        7.62192130e+03, 1.15256383e+05, 7.73064475e+04, 1.05531632e+04,\n",
    "        7.13806977e+05, 2.90353388e+06, 1.50283360e+05, 1.91588787e+04,\n",
    "        1.32146734e+03, 2.11048180e+06, 1.28815061e+03, 1.84582526e+05,\n",
    "        1.11418902e+03, 1.86133027e+04, 1.19827476e+03, 2.93958405e+04,\n",
    "        1.29130768e+04, 1.46401627e+03, 1.18323499e+03, 1.13064256e+03,\n",
    "        1.25157079e+03, 1.41620152e+05, 1.30795977e+05, 3.37467927e+07]),\n",
    "  'rho':0.8}\n",
    "\n",
    "initial_params['log_patient_mean'] = np.log(initial_params['patient_mean'])\n",
    "order = ['patient_shape', 'patient_scale', 'log_patient_mean', 'rho', 'population_shape', 'population_loc', 'population_scale']\n",
    "initial_state = tf.cast(tf.concat([np.atleast_1d(initial_params[key]) for key in order], axis=-1), tf.float32)"
   ]
  },
  {
   "cell_type": "markdown",
   "metadata": {},
   "source": [
    "Affine sampling of full problem"
   ]
  },
  {
   "cell_type": "code",
   "execution_count": 17,
   "metadata": {},
   "outputs": [],
   "source": [
    "# number of walkers\n",
    "n_walkers = 500\n",
    "\n",
    "# number of parameters\n",
    "n_params = initial_state.shape[0]\n",
    "\n",
    "# proposal density for initial points\n",
    "Q = tfd.Normal(loc=initial_state, scale=0.05*initial_state)\n",
    "\n",
    "# initial states for the walkers\n",
    "walkers1 = Q.sample(n_walkers)\n",
    "walkers2 = Q.sample(n_walkers)\n",
    "current_state1 = tf.Variable(walkers1)\n",
    "current_state2 = tf.Variable(walkers2)\n",
    "\n",
    "# initial target log prob\n",
    "logp_current1 = log_prob(current_state1)\n",
    "logp_current2 = log_prob(current_state2)\n",
    "\n",
    "# number of steps to take\n",
    "n_steps = 100\n",
    "\n",
    "# chain\n",
    "chain = [tf.concat([current_state1, current_state2], axis=0)]\n",
    "accepted = []\n",
    "\n",
    "# MCMC loop\n",
    "for step in range(1, n_steps):\n",
    "\n",
    "    # first set of walkers:\n",
    "\n",
    "    # proposals\n",
    "    partners1 = tf.gather(current_state2, np.random.randint(0, n_walkers, n_walkers))\n",
    "    z1 = 0.5*(tf.random.uniform([n_walkers], minval=0, maxval=1)+1)**2\n",
    "    proposed_state1 = partners1 + tf.transpose(z1*tf.transpose(current_state1 - partners1))\n",
    "\n",
    "    # target log prob at proposed points\n",
    "    logp_proposed1 = log_prob(proposed_state1)\n",
    "    logp_proposed1 = tf.where(tf.math.is_nan(logp_proposed1), tf.ones_like(logp_proposed1)*tf.math.log(0.), logp_proposed1)\n",
    "\n",
    "    # acceptance probability\n",
    "    p_accept1 = tf.math.minimum(tf.ones(n_walkers), z1**(n_params-1)*tf.exp(logp_proposed1 - logp_current1) )\n",
    "\n",
    "    # accept or not\n",
    "    accept1_ = (tf.random.uniform([n_walkers], minval=0, maxval=1) <= p_accept1)\n",
    "    accept1 = tf.cast(accept1_, tf.float32)\n",
    "\n",
    "    # update the state\n",
    "    current_state1 = tf.transpose( tf.transpose(current_state1)*(1-accept1) + tf.transpose(proposed_state1)*accept1)\n",
    "    logp_current1 = tf.where(accept1_, logp_proposed1, logp_current1)\n",
    "\n",
    "    # second set of walkers:\n",
    "\n",
    "    # proposals\n",
    "    partners2 = tf.gather(current_state1, np.random.randint(0, n_walkers, n_walkers))\n",
    "    z2 = 0.5*(tf.random.uniform([n_walkers], minval=0, maxval=1)+1)**2\n",
    "    proposed_state2 = partners2 + tf.transpose( z2*tf.transpose(current_state2 - partners2))\n",
    "\n",
    "    # target log prob at proposed points\n",
    "    logp_proposed2 = log_prob(proposed_state2)\n",
    "    logp_proposed2 = tf.where(tf.math.is_nan(logp_proposed2), tf.ones_like(logp_proposed2)*tf.math.log(0.), logp_proposed2)\n",
    "\n",
    "    # acceptance probability\n",
    "    p_accept2 = tf.math.minimum(tf.ones((n_walkers)), z2**(n_params-1)*tf.exp(logp_proposed2 - logp_current2) )\n",
    "\n",
    "    # accept or not\n",
    "    accept2_ = (tf.random.uniform([n_walkers], minval=0, maxval=1) <= p_accept2)\n",
    "    accept2 = tf.cast(accept2_, tf.float32)\n",
    "\n",
    "    # update the state\n",
    "    current_state2 = tf.transpose( tf.transpose(current_state2)*(1-accept2) + tf.transpose(proposed_state2)*accept2)\n",
    "    logp_current2 = tf.where(accept2_, logp_proposed2, logp_current2)\n",
    "\n",
    "    # update the chain\n",
    "    chain.append(tf.concat([current_state1, current_state2], axis=0))\n",
    "    accepted.append(tf.concat([accept1, accept2], axis=0))\n",
    "\n",
    "chain = tf.stack(chain)\n",
    "accepted = tf.stack(accepted)\n",
    "acceptance_rate = tf.reduce_mean(accepted, axis=0)"
   ]
  },
  {
   "cell_type": "markdown",
   "metadata": {},
   "source": [
    "Look at the chains"
   ]
  },
  {
   "cell_type": "code",
   "execution_count": 25,
   "metadata": {},
   "outputs": [
    {
     "data": {
      "image/png": "[encoded data removed]",
      "text/plain": [
       "<Figure size 432x288 with 1 Axes>"
      ]
     },
     "metadata": {
      "needs_background": "light"
     },
     "output_type": "display_data"
    }
   ],
   "source": [
    "samples = chain[-2:,:,38].numpy().flatten()\n",
    "plt.hist(samples)\n",
    "plt.show()"
   ]
  },
  {
   "cell_type": "code",
   "execution_count": 27,
   "metadata": {},
   "outputs": [
    {
     "data": {
      "image/png": "[encoded data removed]",
      "text/plain": [
       "<Figure size 432x288 with 1 Axes>"
      ]
     },
     "metadata": {
      "needs_background": "light"
     },
     "output_type": "display_data"
    }
   ],
   "source": [
    "plt.scatter(chain[-10:,:,0].numpy().flatten(), chain[-10:,:,1].numpy().flatten(), s = 0.5)\n",
    "plt.show()"
   ]
  },
  {
   "cell_type": "code",
   "execution_count": 22,
   "metadata": {},
   "outputs": [
    {
     "data": {
      "image/png": "[encoded data removed]",
      "text/plain": [
       "<Figure size 432x288 with 1 Axes>"
      ]
     },
     "metadata": {
      "needs_background": "light"
     },
     "output_type": "display_data"
    }
   ],
   "source": [
    "plt.scatter(walkers1[:,0].numpy().flatten(), walkers1[:,1].numpy().flatten(), s = 0.5)\n",
    "plt.show()"
   ]
  },
  {
   "cell_type": "code",
   "execution_count": null,
   "metadata": {},
   "outputs": [],
   "source": []
  }
 ],
 "metadata": {
  "kernelspec": {
   "display_name": "Python 3",
   "language": "python",
   "name": "python3"
  },
  "language_info": {
   "codemirror_mode": {
    "name": "ipython",
    "version": 3
   },
   "file_extension": ".py",
   "mimetype": "text/x-python",
   "name": "python",
   "nbconvert_exporter": "python",
   "pygments_lexer": "ipython3",
   "version": "3.7.4"
  }
 },
 "nbformat": 4,
 "nbformat_minor": 4
}
